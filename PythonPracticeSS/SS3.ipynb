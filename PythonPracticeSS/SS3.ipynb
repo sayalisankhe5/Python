{
 "cells": [
  {
   "cell_type": "code",
   "execution_count": 2,
   "id": "acabb3de",
   "metadata": {},
   "outputs": [
    {
     "data": {
      "text/plain": [
       "1.0"
      ]
     },
     "execution_count": 2,
     "metadata": {},
     "output_type": "execute_result"
    }
   ],
   "source": [
    "def myfunc(a,b):\n",
    "    return sum((a,b))*0.05\n",
    "\n",
    "myfunc(10,10)"
   ]
  },
  {
   "cell_type": "code",
   "execution_count": 7,
   "id": "cb3dade8",
   "metadata": {},
   "outputs": [
    {
     "data": {
      "text/plain": [
       "1.5"
      ]
     },
     "execution_count": 7,
     "metadata": {},
     "output_type": "execute_result"
    }
   ],
   "source": [
    "def myfunct(a=0,b=0,c=0,d=0,e=0):\n",
    "    return sum((a,b,c,d,e))*0.05\n",
    "\n",
    "myfunct(10,10,10)"
   ]
  },
  {
   "cell_type": "code",
   "execution_count": 8,
   "id": "9e7b88d2",
   "metadata": {},
   "outputs": [
    {
     "data": {
      "text/plain": [
       "1.5"
      ]
     },
     "execution_count": 8,
     "metadata": {},
     "output_type": "execute_result"
    }
   ],
   "source": [
    "def myfunct(*args):\n",
    "    return sum(args)*0.05\n",
    "\n",
    "myfunct(10,10,10)"
   ]
  },
  {
   "cell_type": "code",
   "execution_count": 13,
   "id": "c361bc60",
   "metadata": {},
   "outputs": [
    {
     "name": "stdout",
     "output_type": "stream",
     "text": [
      "my Fav fruit is mango,apple\n"
     ]
    }
   ],
   "source": [
    "def myfunc(**someargs):\n",
    "    if 'fruits' in someargs:\n",
    "        print(f\"my Fav fruit is {someargs['fruits']}\")\n",
    "    else:\n",
    "        print(\"no fruits\")\n",
    "        \n",
    "myfunc(fruits=\"mango,apple\",game=\"carom\",fruit=\"cherry\")"
   ]
  },
  {
   "cell_type": "code",
   "execution_count": 19,
   "id": "aff89c9c",
   "metadata": {},
   "outputs": [
    {
     "name": "stdout",
     "output_type": "stream",
     "text": [
      "I like eggs and bread and tea and my Fav fruit is mango,apple\n",
      "may i have some guava juice?\n"
     ]
    }
   ],
   "source": [
    "def myfunc(*args,**someargs):\n",
    "    if 'fruits' and 'juice' in someargs:\n",
    "        print(f\"I like {' and ' .join(args)} and my Fav fruit is {someargs['fruits']}\")\n",
    "        print(f\"may i have some {someargs['juice']} juice?\")\n",
    "    else:\n",
    "        pass\n",
    "        \n",
    "myfunc('eggs','bread','tea',fruits=\"mango,apple\",game=\"carom\",fruit=\"cherry\",juice=\"guava\")"
   ]
  },
  {
   "cell_type": "code",
   "execution_count": 20,
   "id": "d949c03b",
   "metadata": {},
   "outputs": [
    {
     "data": {
      "text/plain": [
       "5"
      ]
     },
     "execution_count": 20,
     "metadata": {},
     "output_type": "execute_result"
    }
   ],
   "source": [
    "lst=[1,1,2,2,2,2,2,5]\n",
    "lst.count(2)"
   ]
  },
  {
   "cell_type": "code",
   "execution_count": 26,
   "id": "0c7434e4",
   "metadata": {},
   "outputs": [
    {
     "name": "stdout",
     "output_type": "stream",
     "text": [
      "<class 'int'>\n",
      "<class 'list'>\n",
      "<class 'tuple'>\n",
      "<class 'set'>\n",
      "<class 'dict'>\n"
     ]
    }
   ],
   "source": [
    "print(type(1))\n",
    "print(type([1,2]))\n",
    "print(type((1,2)))\n",
    "print(type({1,2}))\n",
    "print(type({}))"
   ]
  },
  {
   "cell_type": "code",
   "execution_count": 28,
   "id": "b0133956",
   "metadata": {},
   "outputs": [
    {
     "name": "stdout",
     "output_type": "stream",
     "text": [
      "<__main__.Sample object at 0x000001C5683F0190>\n",
      "<class '__main__.Sample'>\n"
     ]
    }
   ],
   "source": [
    "class Sample:\n",
    "    pass\n",
    "\n",
    "x = Sample()\n",
    "print(x)\n",
    "print(type(x))"
   ]
  },
  {
   "cell_type": "code",
   "execution_count": 31,
   "id": "70fc02a5",
   "metadata": {},
   "outputs": [],
   "source": [
    "class Dog:\n",
    "    def __init__(self,breed):\n",
    "        self.breed = breed\n",
    "        \n",
    "d = Dog(breed=\"Lab\")\n",
    "dg = Dog(breed='huskie')"
   ]
  },
  {
   "cell_type": "code",
   "execution_count": 32,
   "id": "4699786a",
   "metadata": {},
   "outputs": [
    {
     "data": {
      "text/plain": [
       "'Lab'"
      ]
     },
     "execution_count": 32,
     "metadata": {},
     "output_type": "execute_result"
    }
   ],
   "source": [
    "d.breed"
   ]
  },
  {
   "cell_type": "code",
   "execution_count": 33,
   "id": "afbb5d51",
   "metadata": {},
   "outputs": [
    {
     "data": {
      "text/plain": [
       "'huskie'"
      ]
     },
     "execution_count": 33,
     "metadata": {},
     "output_type": "execute_result"
    }
   ],
   "source": [
    "dg.breed"
   ]
  },
  {
   "cell_type": "code",
   "execution_count": 38,
   "id": "1f0210ba",
   "metadata": {},
   "outputs": [],
   "source": [
    "class Dog:\n",
    "    species='mamma1'\n",
    "    def __init__(self,breed,name):\n",
    "        self.breed = breed\n",
    "        self.name = name\n",
    "        \n"
   ]
  },
  {
   "cell_type": "code",
   "execution_count": 39,
   "id": "e51459fd",
   "metadata": {},
   "outputs": [],
   "source": [
    "d = Dog('Lab','somename')\n"
   ]
  },
  {
   "cell_type": "code",
   "execution_count": 40,
   "id": "fb5dcb79",
   "metadata": {},
   "outputs": [
    {
     "data": {
      "text/plain": [
       "'Lab'"
      ]
     },
     "execution_count": 40,
     "metadata": {},
     "output_type": "execute_result"
    }
   ],
   "source": [
    "d.breed"
   ]
  },
  {
   "cell_type": "code",
   "execution_count": 41,
   "id": "d54778cc",
   "metadata": {},
   "outputs": [
    {
     "data": {
      "text/plain": [
       "'somename'"
      ]
     },
     "execution_count": 41,
     "metadata": {},
     "output_type": "execute_result"
    }
   ],
   "source": [
    "d.name"
   ]
  },
  {
   "cell_type": "code",
   "execution_count": 42,
   "id": "cd261cee",
   "metadata": {},
   "outputs": [
    {
     "data": {
      "text/plain": [
       "'mamma1'"
      ]
     },
     "execution_count": 42,
     "metadata": {},
     "output_type": "execute_result"
    }
   ],
   "source": [
    "d.species"
   ]
  },
  {
   "cell_type": "code",
   "execution_count": 44,
   "id": "f2764ddf",
   "metadata": {},
   "outputs": [],
   "source": [
    "class Circle:\n",
    "    pi = 3.14\n",
    "    def __init__(self,radius=1):\n",
    "        self.radius = radius\n",
    "        self.area = Circle.pi*radius*radius\n",
    "    def setradius(self,newradius):\n",
    "        self.radius = newradius\n",
    "        self.area = self.pi*newradius*newradius\n",
    "    def getcircumference(self):\n",
    "        return self.pi*self.radius*2"
   ]
  },
  {
   "cell_type": "code",
   "execution_count": 46,
   "id": "30faa11c",
   "metadata": {},
   "outputs": [
    {
     "name": "stdout",
     "output_type": "stream",
     "text": [
      "radius is: 1\n",
      "area is: 3.14\n",
      "circumf is: 6.28\n"
     ]
    }
   ],
   "source": [
    "c=Circle()\n",
    "print(\"radius is:\",c.radius)\n",
    "print(\"area is:\",c.area)\n",
    "print(\"circumf is:\",c.getcircumference())"
   ]
  },
  {
   "cell_type": "code",
   "execution_count": 47,
   "id": "bcadd58d",
   "metadata": {},
   "outputs": [
    {
     "name": "stdout",
     "output_type": "stream",
     "text": [
      "radius is: 5\n",
      "area is: 78.5\n",
      "circumf is: 31.400000000000002\n"
     ]
    }
   ],
   "source": [
    "c=Circle(5)\n",
    "print(\"radius is:\",c.radius)\n",
    "print(\"area is:\",c.area)\n",
    "print(\"circumf is:\",c.getcircumference())"
   ]
  },
  {
   "cell_type": "code",
   "execution_count": 48,
   "id": "4685bc97",
   "metadata": {},
   "outputs": [],
   "source": [
    "class Animal:\n",
    "    def __init__(self):\n",
    "        print(\"animal created\")\n",
    "    def whoamI(self):\n",
    "        print(\"animal \")\n",
    "    def eat(self):\n",
    "        print(\"eating\")\n",
    "        \n",
    "        \n",
    "class Dog(Animal):\n",
    "    def __init__(self):\n",
    "        Animal.__init__(self)\n",
    "        print(\"Dog created\")\n",
    "    def whoamI(self):\n",
    "        print(\"Dog \")\n",
    "    def eat(self):\n",
    "        print(\"dog eating\")\n",
    "    def bark(self):\n",
    "        print(\"dog barking\")"
   ]
  },
  {
   "cell_type": "code",
   "execution_count": 49,
   "id": "def77440",
   "metadata": {},
   "outputs": [
    {
     "name": "stdout",
     "output_type": "stream",
     "text": [
      "animal created\n",
      "Dog created\n"
     ]
    }
   ],
   "source": [
    "d = Dog()"
   ]
  },
  {
   "cell_type": "code",
   "execution_count": 52,
   "id": "a9f3a16c",
   "metadata": {},
   "outputs": [
    {
     "name": "stdout",
     "output_type": "stream",
     "text": [
      "Dog \n",
      "dog barking\n",
      "dog eating\n"
     ]
    }
   ],
   "source": [
    "d.whoamI()\n",
    "d.bark()\n",
    "d.eat()"
   ]
  },
  {
   "cell_type": "code",
   "execution_count": 53,
   "id": "2d447f93",
   "metadata": {},
   "outputs": [
    {
     "name": "stdout",
     "output_type": "stream",
     "text": [
      "success\n"
     ]
    }
   ],
   "source": [
    "try:\n",
    "    f=open('textfile','w')\n",
    "    f.write('test write this')\n",
    "except IOError:\n",
    "    print('error in opening file')\n",
    "else:\n",
    "    print('success')\n",
    "    f.close()"
   ]
  },
  {
   "cell_type": "code",
   "execution_count": 55,
   "id": "b13c2588",
   "metadata": {},
   "outputs": [
    {
     "name": "stdout",
     "output_type": "stream",
     "text": [
      "Must have exactly one of create/read/write/append mode and at most one plus\n"
     ]
    }
   ],
   "source": [
    "try:\n",
    "    f=open('textfile','b')\n",
    "    f.write('test write this')\n",
    "except IOError:\n",
    "    print('error in opening file')\n",
    "except ValueError:\n",
    "    print('Must have exactly one of create/read/write/append mode and at most one plus')\n",
    "else:\n",
    "    print('success')\n",
    "    f.close()"
   ]
  },
  {
   "cell_type": "code",
   "execution_count": 56,
   "id": "4bbbc3f2",
   "metadata": {},
   "outputs": [
    {
     "name": "stdout",
     "output_type": "stream",
     "text": [
      "error in opening file\n"
     ]
    }
   ],
   "source": [
    "try:\n",
    "    f=open('textfile','r')\n",
    "    f.write('test write this')\n",
    "except IOError:\n",
    "    print('error in opening file')\n",
    "except ValueError:\n",
    "    print('Must have exactly one of create/read/write/append mode and at most one plus')\n",
    "else:\n",
    "    print('success')\n",
    "    f.close()"
   ]
  },
  {
   "cell_type": "code",
   "execution_count": 61,
   "id": "14cf596a",
   "metadata": {},
   "outputs": [
    {
     "name": "stdout",
     "output_type": "stream",
     "text": [
      "always executed\n"
     ]
    }
   ],
   "source": [
    "try:\n",
    "    f=open('texttfile','w')\n",
    "    f.write('test write this')\n",
    "    f.close()\n",
    "finally:\n",
    "    print(\"always executed\")\n"
   ]
  },
  {
   "cell_type": "code",
   "execution_count": 1,
   "id": "6627456a",
   "metadata": {},
   "outputs": [
    {
     "data": {
      "text/plain": [
       "[68.0, 176.0, 104.0, 131.0, 145.4]"
      ]
     },
     "execution_count": 1,
     "metadata": {},
     "output_type": "execute_result"
    }
   ],
   "source": [
    "def tempconverter(degree):\n",
    "    return (9/5)*degree + 32\n",
    "\n",
    "temp=[20,80,40,55,63]\n",
    "\n",
    "list(map(tempconverter,temp))"
   ]
  },
  {
   "cell_type": "code",
   "execution_count": 3,
   "id": "45848547",
   "metadata": {},
   "outputs": [
    {
     "data": {
      "text/plain": [
       "[68.0, 176.0, 104.0, 131.0, 145.4]"
      ]
     },
     "execution_count": 3,
     "metadata": {},
     "output_type": "execute_result"
    }
   ],
   "source": [
    "list(map(lambda d: (9/5)*d + 32,temp ))"
   ]
  },
  {
   "cell_type": "code",
   "execution_count": 4,
   "id": "07117a02",
   "metadata": {},
   "outputs": [
    {
     "data": {
      "text/plain": [
       "[6, 8, 10, 12]"
      ]
     },
     "execution_count": 4,
     "metadata": {},
     "output_type": "execute_result"
    }
   ],
   "source": [
    "a=[1,2,3,4]\n",
    "b=[5,6,7,8]\n",
    "c=[8,5,10,7]\n",
    "\n",
    "list(map(lambda x,y:x+y,a,b))"
   ]
  },
  {
   "cell_type": "code",
   "execution_count": 5,
   "id": "6711c771",
   "metadata": {},
   "outputs": [
    {
     "data": {
      "text/plain": [
       "[14, 13, 20, 19]"
      ]
     },
     "execution_count": 5,
     "metadata": {},
     "output_type": "execute_result"
    }
   ],
   "source": [
    "list(map(lambda x,y,z:x+y+z,a,b,c))"
   ]
  },
  {
   "cell_type": "code",
   "execution_count": 6,
   "id": "bc28c758",
   "metadata": {},
   "outputs": [
    {
     "data": {
      "text/plain": [
       "147"
      ]
     },
     "execution_count": 6,
     "metadata": {},
     "output_type": "execute_result"
    }
   ],
   "source": [
    "from functools import reduce\n",
    "\n",
    "list1=[47,55,12,33]\n",
    "\n",
    "reduce(lambda x,y:x+y,list1)"
   ]
  },
  {
   "cell_type": "code",
   "execution_count": 7,
   "id": "3116ff6e",
   "metadata": {},
   "outputs": [
    {
     "ename": "ValueError",
     "evalue": "Cannot embed the 'yoqwulomxcqoamyhsofy8whad4?pid=imgdet&rs=1' image format",
     "output_type": "error",
     "traceback": [
      "\u001b[1;31m---------------------------------------------------------------------------\u001b[0m",
      "\u001b[1;31mValueError\u001b[0m                                Traceback (most recent call last)",
      "Input \u001b[1;32mIn [7]\u001b[0m, in \u001b[0;36m<cell line: 2>\u001b[1;34m()\u001b[0m\n\u001b[0;32m      1\u001b[0m \u001b[38;5;28;01mfrom\u001b[39;00m \u001b[38;5;21;01mIPython\u001b[39;00m\u001b[38;5;21;01m.\u001b[39;00m\u001b[38;5;21;01mdisplay\u001b[39;00m \u001b[38;5;28;01mimport\u001b[39;00m Image\n\u001b[1;32m----> 2\u001b[0m \u001b[43mImage\u001b[49m\u001b[43m(\u001b[49m\u001b[38;5;124;43m'\u001b[39;49m\u001b[38;5;124;43mhttps://tse3.mm.bing.net/th/id/OIP.yoQwUlomxcQOAmYHSOfy8wHaD4?pid=ImgDet&rs=1\u001b[39;49m\u001b[38;5;124;43m'\u001b[39;49m\u001b[43m)\u001b[49m\n",
      "File \u001b[1;32m~\\Anaconda3\\lib\\site-packages\\IPython\\core\\display.py:948\u001b[0m, in \u001b[0;36mImage.__init__\u001b[1;34m(self, data, url, filename, format, embed, width, height, retina, unconfined, metadata, alt)\u001b[0m\n\u001b[0;32m    945\u001b[0m \u001b[38;5;28mself\u001b[39m\u001b[38;5;241m.\u001b[39membed \u001b[38;5;241m=\u001b[39m embed \u001b[38;5;28;01mif\u001b[39;00m embed \u001b[38;5;129;01mis\u001b[39;00m \u001b[38;5;129;01mnot\u001b[39;00m \u001b[38;5;28;01mNone\u001b[39;00m \u001b[38;5;28;01melse\u001b[39;00m (url \u001b[38;5;129;01mis\u001b[39;00m \u001b[38;5;28;01mNone\u001b[39;00m)\n\u001b[0;32m    947\u001b[0m \u001b[38;5;28;01mif\u001b[39;00m \u001b[38;5;28mself\u001b[39m\u001b[38;5;241m.\u001b[39membed \u001b[38;5;129;01mand\u001b[39;00m \u001b[38;5;28mself\u001b[39m\u001b[38;5;241m.\u001b[39mformat \u001b[38;5;129;01mnot\u001b[39;00m \u001b[38;5;129;01min\u001b[39;00m \u001b[38;5;28mself\u001b[39m\u001b[38;5;241m.\u001b[39m_ACCEPTABLE_EMBEDDINGS:\n\u001b[1;32m--> 948\u001b[0m     \u001b[38;5;28;01mraise\u001b[39;00m \u001b[38;5;167;01mValueError\u001b[39;00m(\u001b[38;5;124m\"\u001b[39m\u001b[38;5;124mCannot embed the \u001b[39m\u001b[38;5;124m'\u001b[39m\u001b[38;5;132;01m%s\u001b[39;00m\u001b[38;5;124m'\u001b[39m\u001b[38;5;124m image format\u001b[39m\u001b[38;5;124m\"\u001b[39m \u001b[38;5;241m%\u001b[39m (\u001b[38;5;28mself\u001b[39m\u001b[38;5;241m.\u001b[39mformat))\n\u001b[0;32m    949\u001b[0m \u001b[38;5;28;01mif\u001b[39;00m \u001b[38;5;28mself\u001b[39m\u001b[38;5;241m.\u001b[39membed:\n\u001b[0;32m    950\u001b[0m     \u001b[38;5;28mself\u001b[39m\u001b[38;5;241m.\u001b[39m_mimetype \u001b[38;5;241m=\u001b[39m \u001b[38;5;28mself\u001b[39m\u001b[38;5;241m.\u001b[39m_MIMETYPES\u001b[38;5;241m.\u001b[39mget(\u001b[38;5;28mself\u001b[39m\u001b[38;5;241m.\u001b[39mformat)\n",
      "\u001b[1;31mValueError\u001b[0m: Cannot embed the 'yoqwulomxcqoamyhsofy8whad4?pid=imgdet&rs=1' image format"
     ]
    }
   ],
   "source": [
    "from IPython.display import Image\n",
    "Image('https://tse3.mm.bing.net/th/id/OIP.yoQwUlomxcQOAmYHSOfy8wHaD4?pid=ImgDet&rs=1')"
   ]
  },
  {
   "cell_type": "code",
   "execution_count": 8,
   "id": "76338ef7",
   "metadata": {},
   "outputs": [],
   "source": [
    "max_find = lambda a,b: a if (a>b) else b"
   ]
  },
  {
   "cell_type": "code",
   "execution_count": 9,
   "id": "ff7ac145",
   "metadata": {},
   "outputs": [
    {
     "data": {
      "text/plain": [
       "55"
      ]
     },
     "execution_count": 9,
     "metadata": {},
     "output_type": "execute_result"
    }
   ],
   "source": [
    "reduce(max_find,list1)"
   ]
  },
  {
   "cell_type": "code",
   "execution_count": 10,
   "id": "f6547504",
   "metadata": {},
   "outputs": [
    {
     "data": {
      "text/plain": [
       "[2, 4, 6]"
      ]
     },
     "execution_count": 10,
     "metadata": {},
     "output_type": "execute_result"
    }
   ],
   "source": [
    "def evenchecker(num):\n",
    "    if num%2==0:\n",
    "        return True\n",
    "    \n",
    "list2 = range(1,8)\n",
    "\n",
    "list(filter(evenchecker,list2))"
   ]
  },
  {
   "cell_type": "code",
   "execution_count": 11,
   "id": "f56b765c",
   "metadata": {},
   "outputs": [
    {
     "data": {
      "text/plain": [
       "[2, 4, 6]"
      ]
     },
     "execution_count": 11,
     "metadata": {},
     "output_type": "execute_result"
    }
   ],
   "source": [
    "list(filter(lambda n: n%2==0,list2))"
   ]
  },
  {
   "cell_type": "code",
   "execution_count": 12,
   "id": "6a592b93",
   "metadata": {},
   "outputs": [
    {
     "name": "stdout",
     "output_type": "stream",
     "text": [
      "at 0 is a\n",
      "at 1 is b\n",
      "at 2 is s\n",
      "at 3 is s\n",
      "at 4 is c\n",
      "at 5 is b\n",
      "at 6 is b\n"
     ]
    }
   ],
   "source": [
    "list3=['a','b','s','s','c','b','b']\n",
    "for number,item in enumerate(list3):\n",
    "    print(f\"at {number} is {item}\")"
   ]
  },
  {
   "cell_type": "code",
   "execution_count": 13,
   "id": "96e7a2a7",
   "metadata": {},
   "outputs": [
    {
     "name": "stdout",
     "output_type": "stream",
     "text": [
      "a\n",
      "b\n"
     ]
    }
   ],
   "source": [
    "for count,item in enumerate(list3):\n",
    "    if count>=2:\n",
    "        break\n",
    "    else:\n",
    "        print(item)"
   ]
  },
  {
   "cell_type": "code",
   "execution_count": 14,
   "id": "0f3762d9",
   "metadata": {},
   "outputs": [
    {
     "data": {
      "text/plain": [
       "[(4, 'jan'),\n",
       " (5, 'march'),\n",
       " (6, 'feb'),\n",
       " (7, 'may'),\n",
       " (8, 'april'),\n",
       " (9, 'dec'),\n",
       " (10, 'oct')]"
      ]
     },
     "execution_count": 14,
     "metadata": {},
     "output_type": "execute_result"
    }
   ],
   "source": [
    "months=['jan','march','feb','may','april','dec','oct']\n",
    "list(enumerate(months,start=4))"
   ]
  },
  {
   "cell_type": "code",
   "execution_count": 16,
   "id": "60a080ed",
   "metadata": {},
   "outputs": [
    {
     "data": {
      "text/plain": [
       "False"
      ]
     },
     "execution_count": 16,
     "metadata": {},
     "output_type": "execute_result"
    }
   ],
   "source": [
    "list4=[True,True,False]\n",
    "list5=[True,True]\n",
    "list6=[False,False]\n",
    "\n",
    "all(list4)\n"
   ]
  },
  {
   "cell_type": "code",
   "execution_count": 17,
   "id": "6c7f3fc2",
   "metadata": {},
   "outputs": [
    {
     "data": {
      "text/plain": [
       "True"
      ]
     },
     "execution_count": 17,
     "metadata": {},
     "output_type": "execute_result"
    }
   ],
   "source": [
    "all(list5)"
   ]
  },
  {
   "cell_type": "code",
   "execution_count": 18,
   "id": "bc1a566b",
   "metadata": {},
   "outputs": [
    {
     "data": {
      "text/plain": [
       "False"
      ]
     },
     "execution_count": 18,
     "metadata": {},
     "output_type": "execute_result"
    }
   ],
   "source": [
    "all(list6)"
   ]
  },
  {
   "cell_type": "code",
   "execution_count": 19,
   "id": "1cd45401",
   "metadata": {},
   "outputs": [
    {
     "data": {
      "text/plain": [
       "True"
      ]
     },
     "execution_count": 19,
     "metadata": {},
     "output_type": "execute_result"
    }
   ],
   "source": [
    "any(list4)"
   ]
  },
  {
   "cell_type": "code",
   "execution_count": 20,
   "id": "848c8cc5",
   "metadata": {},
   "outputs": [
    {
     "data": {
      "text/plain": [
       "True"
      ]
     },
     "execution_count": 20,
     "metadata": {},
     "output_type": "execute_result"
    }
   ],
   "source": [
    "any(list5)"
   ]
  },
  {
   "cell_type": "code",
   "execution_count": 21,
   "id": "cf4d27b4",
   "metadata": {},
   "outputs": [
    {
     "data": {
      "text/plain": [
       "False"
      ]
     },
     "execution_count": 21,
     "metadata": {},
     "output_type": "execute_result"
    }
   ],
   "source": [
    "any(list6)"
   ]
  },
  {
   "cell_type": "code",
   "execution_count": 22,
   "id": "1d3d095b",
   "metadata": {},
   "outputs": [
    {
     "data": {
      "text/plain": [
       "(2+5j)"
      ]
     },
     "execution_count": 22,
     "metadata": {},
     "output_type": "execute_result"
    }
   ],
   "source": [
    "complex(2,5)"
   ]
  },
  {
   "cell_type": "code",
   "execution_count": 23,
   "id": "f57b598f",
   "metadata": {},
   "outputs": [
    {
     "data": {
      "text/plain": [
       "(12+8j)"
      ]
     },
     "execution_count": 23,
     "metadata": {},
     "output_type": "execute_result"
    }
   ],
   "source": [
    "complex('12+8j')"
   ]
  },
  {
   "cell_type": "code",
   "execution_count": 24,
   "id": "57423d1f",
   "metadata": {},
   "outputs": [
    {
     "ename": "TypeError",
     "evalue": "complex() can't take second arg if first is a string",
     "output_type": "error",
     "traceback": [
      "\u001b[1;31m---------------------------------------------------------------------------\u001b[0m",
      "\u001b[1;31mTypeError\u001b[0m                                 Traceback (most recent call last)",
      "Input \u001b[1;32mIn [24]\u001b[0m, in \u001b[0;36m<cell line: 1>\u001b[1;34m()\u001b[0m\n\u001b[1;32m----> 1\u001b[0m \u001b[38;5;28;43mcomplex\u001b[39;49m\u001b[43m(\u001b[49m\u001b[38;5;124;43m'\u001b[39;49m\u001b[38;5;124;43m7\u001b[39;49m\u001b[38;5;124;43m'\u001b[39;49m\u001b[43m,\u001b[49m\u001b[38;5;241;43m6\u001b[39;49m\u001b[43m)\u001b[49m\n",
      "\u001b[1;31mTypeError\u001b[0m: complex() can't take second arg if first is a string"
     ]
    }
   ],
   "source": [
    "complex('7',6)"
   ]
  },
  {
   "cell_type": "code",
   "execution_count": 25,
   "id": "03143294",
   "metadata": {},
   "outputs": [
    {
     "data": {
      "text/plain": [
       "1"
      ]
     },
     "execution_count": 25,
     "metadata": {},
     "output_type": "execute_result"
    }
   ],
   "source": [
    "def f():\n",
    "    return 1\n",
    "\n",
    "f()"
   ]
  },
  {
   "cell_type": "code",
   "execution_count": 35,
   "id": "a2628018",
   "metadata": {},
   "outputs": [
    {
     "name": "stdout",
     "output_type": "stream",
     "text": [
      "{'x': [1, 2, 3, 4], 'a': 10}\n"
     ]
    }
   ],
   "source": [
    "s='global v'\n",
    "def checklocal(x):\n",
    "    a=10\n",
    "    print(locals())\n",
    "    \n",
    "checklocal(a)"
   ]
  },
  {
   "cell_type": "code",
   "execution_count": 31,
   "id": "6ae2eca0",
   "metadata": {},
   "outputs": [
    {
     "name": "stdout",
     "output_type": "stream",
     "text": [
      "{'__name__': '__main__', '__doc__': 'Automatically created module for IPython interactive environment', '__package__': None, '__loader__': None, '__spec__': None, '__builtin__': <module 'builtins' (built-in)>, '__builtins__': <module 'builtins' (built-in)>, '_ih': ['', 'def tempconverter(degree):\\n    return (9/5)*degree + 32\\n\\ntemp=[20,80,40,55,63]\\n\\nlist(map(tempconverter,temp))', 'list(map(lambda d: (9/5)*d + 32 ))', 'list(map(lambda d: (9/5)*d + 32,temp ))', 'a=[1,2,3,4]\\nb=[5,6,7,8]\\nc=[8,5,10,7]\\n\\nlist(map(lambda x,y:x+y,a,b))', 'list(map(lambda x,y,z:x+y+z,a,b,c))', 'from functools import reduce\\n\\nlist1=[47,55,12,33]\\n\\nreduce(lambda x,y:x+y,list1)', \"from IPython.display import Image\\nImage('https://tse3.mm.bing.net/th/id/OIP.yoQwUlomxcQOAmYHSOfy8wHaD4?pid=ImgDet&rs=1')\", 'max_find = lambda a,b: a if (a>b) else b', 'reduce(max_find,list1)', 'def evenchecker(num):\\n    if num%2==0:\\n        return True\\n    \\nlist2 = range(1,8)\\n\\nlist(filter(evenchecker,list2))', 'list(filter(lambda n: n%2==0,list2))', 'list3=[\\'a\\',\\'b\\',\\'s\\',\\'s\\',\\'c\\',\\'b\\',\\'b\\']\\nfor number,item in enumerate(list3):\\n    print(f\"at {number} is {item}\")', 'for count,item in enumerate(list3):\\n    if count>=2:\\n        break\\n    else:\\n        print(item)', \"months=['jan','march','feb','may','april','dec','oct']\\nlist(enumerate(months,start=4))\", 'list4=[True,True,False]\\nlist5=[True,True]\\nlist6=[False,False]\\n\\nall(list4)\\nall(list5)', 'list4=[True,True,False]\\nlist5=[True,True]\\nlist6=[False,False]\\n\\nall(list4)', 'all(list5)', 'all(list6)', 'any(list4)', 'any(list5)', 'any(list6)', 'complex(2,5)', \"complex('12+8j')\", \"complex('7',6)\", 'def f():\\n    return 1\\n\\nf()', \"s='global v'\\ndef checklocal():\\n    print(locals())\", \"s='global v'\\ndef checklocal():\\n    print(locals())\\n    \\nchecklocal()\", \"s='global v'\\ndef checklocal():\\n    x\\n    print(locals())\\n    \\nchecklocal()\", \"s='global v'\\ndef checklocal():\\n    x\\n    print(locals())\\n    \\nchecklocal()\", \"s='global v'\\ndef checklocal(x):\\n    \\n    print(locals())\\n    \\nchecklocal()\", 'print(globals())'], '_oh': {1: [68.0, 176.0, 104.0, 131.0, 145.4], 3: [68.0, 176.0, 104.0, 131.0, 145.4], 4: [6, 8, 10, 12], 5: [14, 13, 20, 19], 6: 147, 9: 55, 10: [2, 4, 6], 11: [2, 4, 6], 14: [(4, 'jan'), (5, 'march'), (6, 'feb'), (7, 'may'), (8, 'april'), (9, 'dec'), (10, 'oct')], 15: True, 16: False, 17: True, 18: False, 19: True, 20: True, 21: False, 22: (2+5j), 23: (12+8j), 25: 1}, '_dh': [WindowsPath('C:/Users/320020018/PythonPracticeSS')], 'In': ['', 'def tempconverter(degree):\\n    return (9/5)*degree + 32\\n\\ntemp=[20,80,40,55,63]\\n\\nlist(map(tempconverter,temp))', 'list(map(lambda d: (9/5)*d + 32 ))', 'list(map(lambda d: (9/5)*d + 32,temp ))', 'a=[1,2,3,4]\\nb=[5,6,7,8]\\nc=[8,5,10,7]\\n\\nlist(map(lambda x,y:x+y,a,b))', 'list(map(lambda x,y,z:x+y+z,a,b,c))', 'from functools import reduce\\n\\nlist1=[47,55,12,33]\\n\\nreduce(lambda x,y:x+y,list1)', \"from IPython.display import Image\\nImage('https://tse3.mm.bing.net/th/id/OIP.yoQwUlomxcQOAmYHSOfy8wHaD4?pid=ImgDet&rs=1')\", 'max_find = lambda a,b: a if (a>b) else b', 'reduce(max_find,list1)', 'def evenchecker(num):\\n    if num%2==0:\\n        return True\\n    \\nlist2 = range(1,8)\\n\\nlist(filter(evenchecker,list2))', 'list(filter(lambda n: n%2==0,list2))', 'list3=[\\'a\\',\\'b\\',\\'s\\',\\'s\\',\\'c\\',\\'b\\',\\'b\\']\\nfor number,item in enumerate(list3):\\n    print(f\"at {number} is {item}\")', 'for count,item in enumerate(list3):\\n    if count>=2:\\n        break\\n    else:\\n        print(item)', \"months=['jan','march','feb','may','april','dec','oct']\\nlist(enumerate(months,start=4))\", 'list4=[True,True,False]\\nlist5=[True,True]\\nlist6=[False,False]\\n\\nall(list4)\\nall(list5)', 'list4=[True,True,False]\\nlist5=[True,True]\\nlist6=[False,False]\\n\\nall(list4)', 'all(list5)', 'all(list6)', 'any(list4)', 'any(list5)', 'any(list6)', 'complex(2,5)', \"complex('12+8j')\", \"complex('7',6)\", 'def f():\\n    return 1\\n\\nf()', \"s='global v'\\ndef checklocal():\\n    print(locals())\", \"s='global v'\\ndef checklocal():\\n    print(locals())\\n    \\nchecklocal()\", \"s='global v'\\ndef checklocal():\\n    x\\n    print(locals())\\n    \\nchecklocal()\", \"s='global v'\\ndef checklocal():\\n    x\\n    print(locals())\\n    \\nchecklocal()\", \"s='global v'\\ndef checklocal(x):\\n    \\n    print(locals())\\n    \\nchecklocal()\", 'print(globals())'], 'Out': {1: [68.0, 176.0, 104.0, 131.0, 145.4], 3: [68.0, 176.0, 104.0, 131.0, 145.4], 4: [6, 8, 10, 12], 5: [14, 13, 20, 19], 6: 147, 9: 55, 10: [2, 4, 6], 11: [2, 4, 6], 14: [(4, 'jan'), (5, 'march'), (6, 'feb'), (7, 'may'), (8, 'april'), (9, 'dec'), (10, 'oct')], 15: True, 16: False, 17: True, 18: False, 19: True, 20: True, 21: False, 22: (2+5j), 23: (12+8j), 25: 1}, 'get_ipython': <bound method InteractiveShell.get_ipython of <ipykernel.zmqshell.ZMQInteractiveShell object at 0x00000108CE8CE2E0>>, 'exit': <IPython.core.autocall.ZMQExitAutocall object at 0x00000108CE8CE850>, 'quit': <IPython.core.autocall.ZMQExitAutocall object at 0x00000108CE8CE850>, '_': 1, '__': (12+8j), '___': (2+5j), '_i': \"s='global v'\\ndef checklocal(x):\\n    \\n    print(locals())\\n    \\nchecklocal()\", '_ii': \"s='global v'\\ndef checklocal():\\n    x\\n    print(locals())\\n    \\nchecklocal()\", '_iii': \"s='global v'\\ndef checklocal():\\n    x\\n    print(locals())\\n    \\nchecklocal()\", '_i1': 'def tempconverter(degree):\\n    return (9/5)*degree + 32\\n\\ntemp=[20,80,40,55,63]\\n\\nlist(map(tempconverter,temp))', 'tempconverter': <function tempconverter at 0x00000108CE8FFC10>, 'temp': [20, 80, 40, 55, 63], '_1': [68.0, 176.0, 104.0, 131.0, 145.4], '_i2': 'list(map(lambda d: (9/5)*d + 32 ))', '_i3': 'list(map(lambda d: (9/5)*d + 32,temp ))', '_3': [68.0, 176.0, 104.0, 131.0, 145.4], '_i4': 'a=[1,2,3,4]\\nb=[5,6,7,8]\\nc=[8,5,10,7]\\n\\nlist(map(lambda x,y:x+y,a,b))', 'a': [1, 2, 3, 4], 'b': [5, 6, 7, 8], 'c': [8, 5, 10, 7], '_4': [6, 8, 10, 12], '_i5': 'list(map(lambda x,y,z:x+y+z,a,b,c))', '_5': [14, 13, 20, 19], '_i6': 'from functools import reduce\\n\\nlist1=[47,55,12,33]\\n\\nreduce(lambda x,y:x+y,list1)', 'reduce': <built-in function reduce>, 'list1': [47, 55, 12, 33], '_6': 147, '_i7': \"from IPython.display import Image\\nImage('https://tse3.mm.bing.net/th/id/OIP.yoQwUlomxcQOAmYHSOfy8wHaD4?pid=ImgDet&rs=1')\", 'Image': <class 'IPython.core.display.Image'>, '_i8': 'max_find = lambda a,b: a if (a>b) else b', 'max_find': <function <lambda> at 0x00000108CE8B0280>, '_i9': 'reduce(max_find,list1)', '_9': 55, '_i10': 'def evenchecker(num):\\n    if num%2==0:\\n        return True\\n    \\nlist2 = range(1,8)\\n\\nlist(filter(evenchecker,list2))', 'evenchecker': <function evenchecker at 0x00000108CE8FFB80>, 'list2': range(1, 8), '_10': [2, 4, 6], '_i11': 'list(filter(lambda n: n%2==0,list2))', '_11': [2, 4, 6], '_i12': 'list3=[\\'a\\',\\'b\\',\\'s\\',\\'s\\',\\'c\\',\\'b\\',\\'b\\']\\nfor number,item in enumerate(list3):\\n    print(f\"at {number} is {item}\")', 'list3': ['a', 'b', 's', 's', 'c', 'b', 'b'], 'number': 6, 'item': 's', '_i13': 'for count,item in enumerate(list3):\\n    if count>=2:\\n        break\\n    else:\\n        print(item)', 'count': 2, '_i14': \"months=['jan','march','feb','may','april','dec','oct']\\nlist(enumerate(months,start=4))\", 'months': ['jan', 'march', 'feb', 'may', 'april', 'dec', 'oct'], '_14': [(4, 'jan'), (5, 'march'), (6, 'feb'), (7, 'may'), (8, 'april'), (9, 'dec'), (10, 'oct')], '_i15': 'list4=[True,True,False]\\nlist5=[True,True]\\nlist6=[False,False]\\n\\nall(list4)\\nall(list5)', 'list4': [True, True, False], 'list5': [True, True], 'list6': [False, False], '_15': True, '_i16': 'list4=[True,True,False]\\nlist5=[True,True]\\nlist6=[False,False]\\n\\nall(list4)', '_16': False, '_i17': 'all(list5)', '_17': True, '_i18': 'all(list6)', '_18': False, '_i19': 'any(list4)', '_19': True, '_i20': 'any(list5)', '_20': True, '_i21': 'any(list6)', '_21': False, '_i22': 'complex(2,5)', '_22': (2+5j), '_i23': \"complex('12+8j')\", '_23': (12+8j), '_i24': \"complex('7',6)\", '_i25': 'def f():\\n    return 1\\n\\nf()', 'f': <function f at 0x00000108D02E48B0>, '_25': 1, '_i26': \"s='global v'\\ndef checklocal():\\n    print(locals())\", 's': 'global v', 'checklocal': <function checklocal at 0x00000108D02E4B80>, '_i27': \"s='global v'\\ndef checklocal():\\n    print(locals())\\n    \\nchecklocal()\", '_i28': \"s='global v'\\ndef checklocal():\\n    x\\n    print(locals())\\n    \\nchecklocal()\", '_i29': \"s='global v'\\ndef checklocal():\\n    x\\n    print(locals())\\n    \\nchecklocal()\", '_i30': \"s='global v'\\ndef checklocal(x):\\n    \\n    print(locals())\\n    \\nchecklocal()\", '_i31': 'print(globals())'}\n"
     ]
    }
   ],
   "source": [
    "print(globals())"
   ]
  },
  {
   "cell_type": "code",
   "execution_count": 32,
   "id": "79324c6c",
   "metadata": {},
   "outputs": [
    {
     "name": "stdout",
     "output_type": "stream",
     "text": [
      "dict_keys(['__name__', '__doc__', '__package__', '__loader__', '__spec__', '__builtin__', '__builtins__', '_ih', '_oh', '_dh', 'In', 'Out', 'get_ipython', 'exit', 'quit', '_', '__', '___', '_i', '_ii', '_iii', '_i1', 'tempconverter', 'temp', '_1', '_i2', '_i3', '_3', '_i4', 'a', 'b', 'c', '_4', '_i5', '_5', '_i6', 'reduce', 'list1', '_6', '_i7', 'Image', '_i8', 'max_find', '_i9', '_9', '_i10', 'evenchecker', 'list2', '_10', '_i11', '_11', '_i12', 'list3', 'number', 'item', '_i13', 'count', '_i14', 'months', '_14', '_i15', 'list4', 'list5', 'list6', '_15', '_i16', '_16', '_i17', '_17', '_i18', '_18', '_i19', '_19', '_i20', '_20', '_i21', '_21', '_i22', '_22', '_i23', '_23', '_i24', '_i25', 'f', '_25', '_i26', 's', 'checklocal', '_i27', '_i28', '_i29', '_i30', '_i31', '_i32'])\n"
     ]
    }
   ],
   "source": [
    "print(globals().keys())"
   ]
  },
  {
   "cell_type": "code",
   "execution_count": 33,
   "id": "cdf235f5",
   "metadata": {},
   "outputs": [
    {
     "data": {
      "text/plain": [
       "'global v'"
      ]
     },
     "execution_count": 33,
     "metadata": {},
     "output_type": "execute_result"
    }
   ],
   "source": [
    "globals()['s']"
   ]
  },
  {
   "cell_type": "code",
   "execution_count": 36,
   "id": "2f2f2335",
   "metadata": {},
   "outputs": [
    {
     "data": {
      "text/plain": [
       "'hello terry'"
      ]
     },
     "execution_count": 36,
     "metadata": {},
     "output_type": "execute_result"
    }
   ],
   "source": [
    "def hello(name='jose'):\n",
    "    return 'hello '+name\n",
    "\n",
    "hello('terry')"
   ]
  },
  {
   "cell_type": "code",
   "execution_count": 37,
   "id": "932231e2",
   "metadata": {},
   "outputs": [
    {
     "data": {
      "text/plain": [
       "'hello jose'"
      ]
     },
     "execution_count": 37,
     "metadata": {},
     "output_type": "execute_result"
    }
   ],
   "source": [
    "hello()"
   ]
  },
  {
   "cell_type": "code",
   "execution_count": 38,
   "id": "f1e010e3",
   "metadata": {},
   "outputs": [],
   "source": [
    "greet=hello"
   ]
  },
  {
   "cell_type": "code",
   "execution_count": 39,
   "id": "6fddb689",
   "metadata": {},
   "outputs": [
    {
     "data": {
      "text/plain": [
       "<function __main__.hello(name='jose')>"
      ]
     },
     "execution_count": 39,
     "metadata": {},
     "output_type": "execute_result"
    }
   ],
   "source": [
    "greet"
   ]
  },
  {
   "cell_type": "code",
   "execution_count": 40,
   "id": "259264e9",
   "metadata": {},
   "outputs": [
    {
     "data": {
      "text/plain": [
       "'hello jose'"
      ]
     },
     "execution_count": 40,
     "metadata": {},
     "output_type": "execute_result"
    }
   ],
   "source": [
    "greet()"
   ]
  },
  {
   "cell_type": "code",
   "execution_count": 42,
   "id": "c5b574fa",
   "metadata": {},
   "outputs": [
    {
     "ename": "NameError",
     "evalue": "name 'hello' is not defined",
     "output_type": "error",
     "traceback": [
      "\u001b[1;31m---------------------------------------------------------------------------\u001b[0m",
      "\u001b[1;31mNameError\u001b[0m                                 Traceback (most recent call last)",
      "Input \u001b[1;32mIn [42]\u001b[0m, in \u001b[0;36m<cell line: 1>\u001b[1;34m()\u001b[0m\n\u001b[1;32m----> 1\u001b[0m \u001b[38;5;28;01mdel\u001b[39;00m hello\n\u001b[0;32m      3\u001b[0m hello()\n",
      "\u001b[1;31mNameError\u001b[0m: name 'hello' is not defined"
     ]
    }
   ],
   "source": [
    "del hello\n",
    "\n",
    "hello()"
   ]
  },
  {
   "cell_type": "code",
   "execution_count": 43,
   "id": "bc72df05",
   "metadata": {},
   "outputs": [
    {
     "data": {
      "text/plain": [
       "'hello jose'"
      ]
     },
     "execution_count": 43,
     "metadata": {},
     "output_type": "execute_result"
    }
   ],
   "source": [
    "greet()"
   ]
  },
  {
   "cell_type": "code",
   "execution_count": 44,
   "id": "59d1137c",
   "metadata": {},
   "outputs": [],
   "source": [
    "def hello(name='kate'):\n",
    "    print('hello function is executed')\n",
    "    \n",
    "    def greet():\n",
    "        return '\\n this is greet function'\n",
    "    \n",
    "    def welcome():\n",
    "        return '\\t this is welcome function'\n",
    "    \n",
    "    print(greet())\n",
    "    print(welcome())\n",
    "    \n",
    "    print(\"now back in hello function\")"
   ]
  },
  {
   "cell_type": "code",
   "execution_count": 45,
   "id": "79ccaefe",
   "metadata": {},
   "outputs": [
    {
     "name": "stdout",
     "output_type": "stream",
     "text": [
      "hello function is executed\n",
      "\n",
      " this is greet function\n",
      "\t this is welcome function\n",
      "now back in hello function\n"
     ]
    }
   ],
   "source": [
    "hello()"
   ]
  },
  {
   "cell_type": "code",
   "execution_count": 46,
   "id": "eac18d81",
   "metadata": {},
   "outputs": [
    {
     "ename": "NameError",
     "evalue": "name 'welcome' is not defined",
     "output_type": "error",
     "traceback": [
      "\u001b[1;31m---------------------------------------------------------------------------\u001b[0m",
      "\u001b[1;31mNameError\u001b[0m                                 Traceback (most recent call last)",
      "Input \u001b[1;32mIn [46]\u001b[0m, in \u001b[0;36m<cell line: 1>\u001b[1;34m()\u001b[0m\n\u001b[1;32m----> 1\u001b[0m \u001b[43mwelcome\u001b[49m()\n",
      "\u001b[1;31mNameError\u001b[0m: name 'welcome' is not defined"
     ]
    }
   ],
   "source": [
    "welcome()"
   ]
  },
  {
   "cell_type": "code",
   "execution_count": 47,
   "id": "ffb295e7",
   "metadata": {},
   "outputs": [],
   "source": [
    "def hello(name='kate'):\n",
    "    print('hello function is executed')\n",
    "    \n",
    "    def greet():\n",
    "        return '\\n this is greet function'\n",
    "    \n",
    "    def welcome():\n",
    "        return '\\t this is welcome function'\n",
    "    if name == 'kate':\n",
    "        return greet\n",
    "    else:\n",
    "        return welcome"
   ]
  },
  {
   "cell_type": "code",
   "execution_count": 48,
   "id": "49d29cc0",
   "metadata": {},
   "outputs": [
    {
     "name": "stdout",
     "output_type": "stream",
     "text": [
      "hello function is executed\n"
     ]
    }
   ],
   "source": [
    "x=hello()"
   ]
  },
  {
   "cell_type": "code",
   "execution_count": 49,
   "id": "6b7311b9",
   "metadata": {},
   "outputs": [
    {
     "data": {
      "text/plain": [
       "<function __main__.hello.<locals>.greet()>"
      ]
     },
     "execution_count": 49,
     "metadata": {},
     "output_type": "execute_result"
    }
   ],
   "source": [
    "x"
   ]
  },
  {
   "cell_type": "code",
   "execution_count": 50,
   "id": "1515fc9b",
   "metadata": {},
   "outputs": [
    {
     "data": {
      "text/plain": [
       "'\\n this is greet function'"
      ]
     },
     "execution_count": 50,
     "metadata": {},
     "output_type": "execute_result"
    }
   ],
   "source": [
    "x()"
   ]
  },
  {
   "cell_type": "code",
   "execution_count": 51,
   "id": "61515828",
   "metadata": {},
   "outputs": [
    {
     "name": "stdout",
     "output_type": "stream",
     "text": [
      "\n",
      " this is greet function\n"
     ]
    }
   ],
   "source": [
    "print(x())"
   ]
  },
  {
   "cell_type": "code",
   "execution_count": 52,
   "id": "a36316f2",
   "metadata": {},
   "outputs": [
    {
     "name": "stdout",
     "output_type": "stream",
     "text": [
      "hello function is executed\n"
     ]
    }
   ],
   "source": [
    "y=hello('jane')"
   ]
  },
  {
   "cell_type": "code",
   "execution_count": 53,
   "id": "a1ffd9db",
   "metadata": {},
   "outputs": [
    {
     "data": {
      "text/plain": [
       "<function __main__.hello.<locals>.welcome()>"
      ]
     },
     "execution_count": 53,
     "metadata": {},
     "output_type": "execute_result"
    }
   ],
   "source": [
    "y"
   ]
  },
  {
   "cell_type": "code",
   "execution_count": 55,
   "id": "115841f5",
   "metadata": {},
   "outputs": [
    {
     "name": "stdout",
     "output_type": "stream",
     "text": [
      "\t this is welcome function\n"
     ]
    }
   ],
   "source": [
    "print(y())"
   ]
  },
  {
   "cell_type": "code",
   "execution_count": 56,
   "id": "704b87d3",
   "metadata": {},
   "outputs": [],
   "source": [
    "def hello():\n",
    "    return 'hi jose'\n",
    "def other(func):\n",
    "    print('other code would go here')\n",
    "    print(func())"
   ]
  },
  {
   "cell_type": "code",
   "execution_count": 57,
   "id": "84ee3b21",
   "metadata": {},
   "outputs": [
    {
     "name": "stdout",
     "output_type": "stream",
     "text": [
      "other code would go here\n",
      "hi jose\n"
     ]
    }
   ],
   "source": [
    "other(hello)"
   ]
  },
  {
   "cell_type": "code",
   "execution_count": 2,
   "id": "a93afbe4",
   "metadata": {},
   "outputs": [],
   "source": [
    "def newdec(func):\n",
    "    def wrapf():\n",
    "        print('here before func exec')\n",
    "        func()\n",
    "        print('after func exceute')\n",
    "    return wrapf\n",
    "\n",
    "def func_needs_decorator():\n",
    "    print('this is function in need of decorator')"
   ]
  },
  {
   "cell_type": "code",
   "execution_count": 3,
   "id": "e1e90119",
   "metadata": {},
   "outputs": [
    {
     "name": "stdout",
     "output_type": "stream",
     "text": [
      "this is function in need of decorator\n"
     ]
    }
   ],
   "source": [
    "func_needs_decorator()"
   ]
  },
  {
   "cell_type": "code",
   "execution_count": 4,
   "id": "97a8821d",
   "metadata": {},
   "outputs": [],
   "source": [
    "func_needs_decorator=newdec(func_needs_decorator)"
   ]
  },
  {
   "cell_type": "code",
   "execution_count": 5,
   "id": "790042f5",
   "metadata": {},
   "outputs": [
    {
     "name": "stdout",
     "output_type": "stream",
     "text": [
      "here before func exec\n",
      "this is function in need of decorator\n",
      "after func exceute\n"
     ]
    }
   ],
   "source": [
    "func_needs_decorator()"
   ]
  },
  {
   "cell_type": "code",
   "execution_count": 6,
   "id": "edc7bf05",
   "metadata": {},
   "outputs": [],
   "source": [
    "@newdec\n",
    "def func_needs_decorator():\n",
    "    print('this is function in need of decorator')"
   ]
  },
  {
   "cell_type": "code",
   "execution_count": 7,
   "id": "ee01f613",
   "metadata": {},
   "outputs": [
    {
     "name": "stdout",
     "output_type": "stream",
     "text": [
      "here before func exec\n",
      "this is function in need of decorator\n",
      "after func exceute\n"
     ]
    }
   ],
   "source": [
    "func_needs_decorator()"
   ]
  },
  {
   "cell_type": "code",
   "execution_count": 68,
   "id": "e9582c05",
   "metadata": {},
   "outputs": [],
   "source": [
    "def gencubes(n):\n",
    "    for num in range(n):\n",
    "        yield num**3"
   ]
  },
  {
   "cell_type": "code",
   "execution_count": 70,
   "id": "4a2ec508",
   "metadata": {},
   "outputs": [
    {
     "name": "stdout",
     "output_type": "stream",
     "text": [
      "0\n",
      "1\n",
      "8\n",
      "27\n",
      "64\n",
      "125\n",
      "216\n",
      "343\n",
      "512\n",
      "729\n",
      "1000\n",
      "1331\n",
      "1728\n",
      "2197\n",
      "2744\n"
     ]
    }
   ],
   "source": [
    "for x in gencubes(15):\n",
    "    print(x)"
   ]
  },
  {
   "cell_type": "code",
   "execution_count": 72,
   "id": "1766e43b",
   "metadata": {},
   "outputs": [],
   "source": [
    "def genfibo(n):\n",
    "    a=1\n",
    "    b=1\n",
    "    for i in range(n):\n",
    "        yield a\n",
    "        a,b=b,a+b"
   ]
  },
  {
   "cell_type": "code",
   "execution_count": 74,
   "id": "a6e1e60f",
   "metadata": {},
   "outputs": [
    {
     "name": "stdout",
     "output_type": "stream",
     "text": [
      "1\n",
      "1\n",
      "2\n",
      "3\n",
      "5\n",
      "8\n",
      "13\n",
      "21\n"
     ]
    }
   ],
   "source": [
    "for x in genfibo(8):\n",
    "    print(x)"
   ]
  },
  {
   "cell_type": "code",
   "execution_count": 75,
   "id": "7baaa644",
   "metadata": {},
   "outputs": [],
   "source": [
    "def fibo(n):\n",
    "    a=1\n",
    "    b=1\n",
    "    output=[]\n",
    "    for i in range(n):\n",
    "        output.append(a)\n",
    "        a,b=b,a+b\n",
    "    return output"
   ]
  },
  {
   "cell_type": "code",
   "execution_count": 76,
   "id": "bfb0af70",
   "metadata": {},
   "outputs": [
    {
     "data": {
      "text/plain": [
       "[1, 1, 2, 3, 5, 8, 13, 21, 34, 55, 89, 144, 233, 377, 610]"
      ]
     },
     "execution_count": 76,
     "metadata": {},
     "output_type": "execute_result"
    }
   ],
   "source": [
    "fibo(15)"
   ]
  },
  {
   "cell_type": "code",
   "execution_count": 79,
   "id": "292cc1e6",
   "metadata": {},
   "outputs": [],
   "source": [
    "def simple():\n",
    "    for x in range(5):\n",
    "        yield x\n",
    "        \n",
    "        \n"
   ]
  },
  {
   "cell_type": "code",
   "execution_count": 81,
   "id": "c7e24d21",
   "metadata": {},
   "outputs": [],
   "source": [
    "g=simple()"
   ]
  },
  {
   "cell_type": "code",
   "execution_count": 83,
   "id": "9fcbff5c",
   "metadata": {},
   "outputs": [
    {
     "name": "stdout",
     "output_type": "stream",
     "text": [
      "1\n"
     ]
    }
   ],
   "source": [
    "print(next(g))"
   ]
  },
  {
   "cell_type": "code",
   "execution_count": 84,
   "id": "30d50e9b",
   "metadata": {},
   "outputs": [
    {
     "name": "stdout",
     "output_type": "stream",
     "text": [
      "2\n"
     ]
    }
   ],
   "source": [
    "print(next(g))"
   ]
  },
  {
   "cell_type": "code",
   "execution_count": 85,
   "id": "480912e2",
   "metadata": {},
   "outputs": [
    {
     "name": "stdout",
     "output_type": "stream",
     "text": [
      "h\n",
      "e\n",
      "l\n",
      "l\n",
      "o\n"
     ]
    }
   ],
   "source": [
    "s='hello'\n",
    "for let in s:\n",
    "    print(let)"
   ]
  },
  {
   "cell_type": "code",
   "execution_count": 86,
   "id": "8ccd0a3c",
   "metadata": {},
   "outputs": [
    {
     "ename": "TypeError",
     "evalue": "'str' object is not an iterator",
     "output_type": "error",
     "traceback": [
      "\u001b[1;31m---------------------------------------------------------------------------\u001b[0m",
      "\u001b[1;31mTypeError\u001b[0m                                 Traceback (most recent call last)",
      "Input \u001b[1;32mIn [86]\u001b[0m, in \u001b[0;36m<cell line: 1>\u001b[1;34m()\u001b[0m\n\u001b[1;32m----> 1\u001b[0m \u001b[38;5;28;43mnext\u001b[39;49m\u001b[43m(\u001b[49m\u001b[43ms\u001b[49m\u001b[43m)\u001b[49m\n",
      "\u001b[1;31mTypeError\u001b[0m: 'str' object is not an iterator"
     ]
    }
   ],
   "source": [
    "next(s)"
   ]
  },
  {
   "cell_type": "code",
   "execution_count": 87,
   "id": "84abc701",
   "metadata": {},
   "outputs": [],
   "source": [
    "siter = iter(s)"
   ]
  },
  {
   "cell_type": "code",
   "execution_count": 88,
   "id": "3c954289",
   "metadata": {},
   "outputs": [
    {
     "data": {
      "text/plain": [
       "'h'"
      ]
     },
     "execution_count": 88,
     "metadata": {},
     "output_type": "execute_result"
    }
   ],
   "source": [
    "next(siter)"
   ]
  },
  {
   "cell_type": "code",
   "execution_count": 89,
   "id": "113cbf04",
   "metadata": {},
   "outputs": [
    {
     "data": {
      "text/plain": [
       "'e'"
      ]
     },
     "execution_count": 89,
     "metadata": {},
     "output_type": "execute_result"
    }
   ],
   "source": [
    "next(siter)"
   ]
  },
  {
   "cell_type": "code",
   "execution_count": null,
   "id": "cfe6e397",
   "metadata": {},
   "outputs": [],
   "source": []
  }
 ],
 "metadata": {
  "kernelspec": {
   "display_name": "Python 3 (ipykernel)",
   "language": "python",
   "name": "python3"
  },
  "language_info": {
   "codemirror_mode": {
    "name": "ipython",
    "version": 3
   },
   "file_extension": ".py",
   "mimetype": "text/x-python",
   "name": "python",
   "nbconvert_exporter": "python",
   "pygments_lexer": "ipython3",
   "version": "3.9.12"
  }
 },
 "nbformat": 4,
 "nbformat_minor": 5
}
