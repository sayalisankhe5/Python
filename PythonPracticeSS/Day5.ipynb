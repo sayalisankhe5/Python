{
 "cells": [
  {
   "cell_type": "code",
   "execution_count": 47,
   "id": "1fd5fc9b",
   "metadata": {},
   "outputs": [
    {
     "data": {
      "text/plain": [
       "'C:\\\\Users\\\\320020018\\\\PythonPracticeSS'"
      ]
     },
     "execution_count": 47,
     "metadata": {},
     "output_type": "execute_result"
    }
   ],
   "source": [
    "pwd"
   ]
  },
  {
   "cell_type": "code",
   "execution_count": 42,
   "id": "e0affec1",
   "metadata": {},
   "outputs": [],
   "source": [
    "import bs4"
   ]
  },
  {
   "cell_type": "code",
   "execution_count": 43,
   "id": "04690cb8",
   "metadata": {},
   "outputs": [],
   "source": [
    "import csv"
   ]
  },
  {
   "cell_type": "code",
   "execution_count": 58,
   "id": "75cf2d21",
   "metadata": {},
   "outputs": [],
   "source": [
    "data = open('example.csv',encoding='utf-8')"
   ]
  },
  {
   "cell_type": "code",
   "execution_count": 59,
   "id": "73b4d4e8",
   "metadata": {},
   "outputs": [],
   "source": [
    "csv_data=csv.reader(data)"
   ]
  },
  {
   "cell_type": "code",
   "execution_count": 60,
   "id": "00b8a375",
   "metadata": {},
   "outputs": [],
   "source": [
    "data_lines = list(csv_data)"
   ]
  },
  {
   "cell_type": "code",
   "execution_count": 61,
   "id": "b70eca4f",
   "metadata": {},
   "outputs": [
    {
     "data": {
      "text/plain": [
       "[['a\\tb'], ['10\\t20'], ['7', '8', '9'], ['this is some statement']]"
      ]
     },
     "execution_count": 61,
     "metadata": {},
     "output_type": "execute_result"
    }
   ],
   "source": [
    "data_lines"
   ]
  },
  {
   "cell_type": "code",
   "execution_count": 63,
   "id": "a5f900a7",
   "metadata": {},
   "outputs": [],
   "source": [
    "import PyPDF2"
   ]
  },
  {
   "cell_type": "code",
   "execution_count": 71,
   "id": "0cd3bc01",
   "metadata": {},
   "outputs": [],
   "source": [
    "pdfreader = open('sample.pdf','rb')"
   ]
  },
  {
   "cell_type": "code",
   "execution_count": 72,
   "id": "1801846e",
   "metadata": {},
   "outputs": [],
   "source": [
    "pdfr = PyPDF2.PdfFileReader(pdfreader)"
   ]
  },
  {
   "cell_type": "code",
   "execution_count": 66,
   "id": "6dab7e0e",
   "metadata": {},
   "outputs": [
    {
     "data": {
      "text/plain": [
       "2"
      ]
     },
     "execution_count": 66,
     "metadata": {},
     "output_type": "execute_result"
    }
   ],
   "source": [
    "pdfr.numPages"
   ]
  },
  {
   "cell_type": "code",
   "execution_count": 73,
   "id": "8a8c3df1",
   "metadata": {},
   "outputs": [],
   "source": [
    "pageone = pdfr.getPage(0)"
   ]
  },
  {
   "cell_type": "code",
   "execution_count": 68,
   "id": "563e731e",
   "metadata": {},
   "outputs": [],
   "source": [
    "pageonetext = pageone.extractText()"
   ]
  },
  {
   "cell_type": "code",
   "execution_count": 69,
   "id": "6d89a913",
   "metadata": {},
   "outputs": [
    {
     "data": {
      "text/plain": [
       "' A Simple PDF File \\n This is a small demonstration .pdf file - \\n just for use in the Virtual Mechanics tutorials. More text. And more \\n text. And more text. And more text. And more text. \\n And more text. And more text. And more text. And more text. And more \\n text. And more text. Boring, zzzzz. And more text. And more text. And \\n more text. And more text. And more text. And more text. And more text. \\n And more text. And more text. \\n And more text. And more text. And more text. And more text. And more \\n text. And more text. And more text. Even more. Continued on page 2 ...'"
      ]
     },
     "execution_count": 69,
     "metadata": {},
     "output_type": "execute_result"
    }
   ],
   "source": [
    "pageonetext"
   ]
  },
  {
   "cell_type": "code",
   "execution_count": 74,
   "id": "3223f561",
   "metadata": {},
   "outputs": [],
   "source": [
    "pdfreader.close()"
   ]
  },
  {
   "cell_type": "code",
   "execution_count": null,
   "id": "b684b171",
   "metadata": {},
   "outputs": [],
   "source": [
    "#smtp.gmail.com"
   ]
  },
  {
   "cell_type": "code",
   "execution_count": 75,
   "id": "51d40517",
   "metadata": {},
   "outputs": [],
   "source": [
    "import smtplib\n"
   ]
  },
  {
   "cell_type": "code",
   "execution_count": 76,
   "id": "b04b9475",
   "metadata": {},
   "outputs": [],
   "source": [
    "smtp_obj = smtplib.SMTP('smtp.gmail.com',587)"
   ]
  },
  {
   "cell_type": "code",
   "execution_count": 77,
   "id": "32a72443",
   "metadata": {},
   "outputs": [
    {
     "data": {
      "text/plain": [
       "(250,\n",
       " b'smtp.gmail.com at your service, [150.107.182.128]\\nSIZE 35882577\\n8BITMIME\\nSTARTTLS\\nENHANCEDSTATUSCODES\\nPIPELINING\\nCHUNKING\\nSMTPUTF8')"
      ]
     },
     "execution_count": 77,
     "metadata": {},
     "output_type": "execute_result"
    }
   ],
   "source": [
    "smtp_obj.ehlo()"
   ]
  },
  {
   "cell_type": "code",
   "execution_count": 78,
   "id": "dbd74fd1",
   "metadata": {},
   "outputs": [
    {
     "data": {
      "text/plain": [
       "(220, b'2.0.0 Ready to start TLS')"
      ]
     },
     "execution_count": 78,
     "metadata": {},
     "output_type": "execute_result"
    }
   ],
   "source": [
    "smtp_obj.starttls()"
   ]
  },
  {
   "cell_type": "code",
   "execution_count": 79,
   "id": "7e400876",
   "metadata": {},
   "outputs": [],
   "source": [
    "import getpass"
   ]
  },
  {
   "cell_type": "code",
   "execution_count": 80,
   "id": "fd6dcb9e",
   "metadata": {},
   "outputs": [
    {
     "name": "stdout",
     "output_type": "stream",
     "text": [
      "Hidden text for password @//#..········\n"
     ]
    }
   ],
   "source": [
    "result = getpass.getpass(\"Hidden text for password @//#..\")"
   ]
  },
  {
   "cell_type": "code",
   "execution_count": 81,
   "id": "6ad44aed",
   "metadata": {},
   "outputs": [
    {
     "data": {
      "text/plain": [
       "'abcd'"
      ]
     },
     "execution_count": 81,
     "metadata": {},
     "output_type": "execute_result"
    }
   ],
   "source": [
    "result"
   ]
  },
  {
   "cell_type": "code",
   "execution_count": 82,
   "id": "f604df5a",
   "metadata": {},
   "outputs": [
    {
     "name": "stdout",
     "output_type": "stream",
     "text": [
      "enter your passwordabcdf\n"
     ]
    },
    {
     "data": {
      "text/plain": [
       "'abcdf'"
      ]
     },
     "execution_count": 82,
     "metadata": {},
     "output_type": "execute_result"
    }
   ],
   "source": [
    "input(\"enter your password\")"
   ]
  },
  {
   "cell_type": "code",
   "execution_count": 84,
   "id": "929349d9",
   "metadata": {},
   "outputs": [
    {
     "name": "stdout",
     "output_type": "stream",
     "text": [
      "enter your email:········\n",
      "enter your password:········\n"
     ]
    },
    {
     "ename": "NameError",
     "evalue": "name 'email' is not defined",
     "output_type": "error",
     "traceback": [
      "\u001b[1;31m---------------------------------------------------------------------------\u001b[0m",
      "\u001b[1;31mNameError\u001b[0m                                 Traceback (most recent call last)",
      "Input \u001b[1;32mIn [84]\u001b[0m, in \u001b[0;36m<cell line: 3>\u001b[1;34m()\u001b[0m\n\u001b[0;32m      1\u001b[0m email1 \u001b[38;5;241m=\u001b[39m getpass\u001b[38;5;241m.\u001b[39mgetpass(\u001b[38;5;124m\"\u001b[39m\u001b[38;5;124menter your email:\u001b[39m\u001b[38;5;124m\"\u001b[39m)\n\u001b[0;32m      2\u001b[0m password1 \u001b[38;5;241m=\u001b[39m getpass\u001b[38;5;241m.\u001b[39mgetpass(\u001b[38;5;124m\"\u001b[39m\u001b[38;5;124menter your password:\u001b[39m\u001b[38;5;124m\"\u001b[39m)\n\u001b[1;32m----> 3\u001b[0m smtp_obj\u001b[38;5;241m.\u001b[39mlogin(\u001b[43memail\u001b[49m,password)\n",
      "\u001b[1;31mNameError\u001b[0m: name 'email' is not defined"
     ]
    }
   ],
   "source": [
    "email1 = getpass.getpass(\"enter your email:\")\n",
    "password1 = getpass.getpass(\"enter your password:\")\n",
    "smtp_obj.login(email1,password1)"
   ]
  },
  {
   "cell_type": "code",
   "execution_count": null,
   "id": "57070ed7",
   "metadata": {},
   "outputs": [],
   "source": [
    "from_address = getpass.getpass(\"enter your email:\")\n",
    "to_address = getpass.getpass(\"enter recepient\")\n",
    "subj = input(\"enter email subject\")\n",
    "messg = input(\"email message to be sent\")\n",
    "msg=\"Subject\" + subj + \"\\n\" + messg\n",
    "smtp_obj.sendmail(from_address,to_address.msg)"
   ]
  },
  {
   "cell_type": "code",
   "execution_count": null,
   "id": "144f77fa",
   "metadata": {},
   "outputs": [],
   "source": [
    "smtp_obj.quit()"
   ]
  },
  {
   "cell_type": "code",
   "execution_count": null,
   "id": "1438ef1a",
   "metadata": {},
   "outputs": [],
   "source": [
    "import imaplib"
   ]
  },
  {
   "cell_type": "code",
   "execution_count": null,
   "id": "c14d5071",
   "metadata": {},
   "outputs": [],
   "source": [
    "#decorator\n",
    "\n",
    "def decorator_function_example(func):\n",
    "    def inner_func():\n",
    "        print(\"Before\")\n",
    "        func()\n",
    "        print(\"After\")\n",
    "    return inner_func\n",
    "\n",
    "\n",
    "def function_needs_decorator():\n",
    "    print(\"inside function_needs_decorator()\")"
   ]
  },
  {
   "cell_type": "code",
   "execution_count": null,
   "id": "822d4a9a",
   "metadata": {},
   "outputs": [],
   "source": [
    "caller = decorator_function_example(function_needs_decorator)"
   ]
  },
  {
   "cell_type": "code",
   "execution_count": null,
   "id": "b6cf94c1",
   "metadata": {},
   "outputs": [],
   "source": [
    "caller()"
   ]
  },
  {
   "cell_type": "code",
   "execution_count": null,
   "id": "854e3ee3",
   "metadata": {},
   "outputs": [],
   "source": []
  }
 ],
 "metadata": {
  "kernelspec": {
   "display_name": "Python 3 (ipykernel)",
   "language": "python",
   "name": "python3"
  },
  "language_info": {
   "codemirror_mode": {
    "name": "ipython",
    "version": 3
   },
   "file_extension": ".py",
   "mimetype": "text/x-python",
   "name": "python",
   "nbconvert_exporter": "python",
   "pygments_lexer": "ipython3",
   "version": "3.9.12"
  }
 },
 "nbformat": 4,
 "nbformat_minor": 5
}
