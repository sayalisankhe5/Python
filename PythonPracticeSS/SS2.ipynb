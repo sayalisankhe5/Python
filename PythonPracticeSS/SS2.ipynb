{
 "cells": [
  {
   "cell_type": "code",
   "execution_count": 3,
   "id": "d861cd10",
   "metadata": {},
   "outputs": [
    {
     "data": {
      "text/plain": [
       "[0, 2, 4, 6, 8, 10, 12, 14, 16, 18]"
      ]
     },
     "execution_count": 3,
     "metadata": {},
     "output_type": "execute_result"
    }
   ],
   "source": [
    "list1= [x for x in range(19) if x%2==0]\n",
    "list1"
   ]
  },
  {
   "cell_type": "code",
   "execution_count": 4,
   "id": "9d7f4aa2",
   "metadata": {},
   "outputs": [
    {
     "data": {
      "text/plain": [
       "[50.0, 167.0, 96.44, 126.86000000000001, 86.18, 211.1]"
      ]
     },
     "execution_count": 4,
     "metadata": {},
     "output_type": "execute_result"
    }
   ],
   "source": [
    "celcius = [10,75,35.8,52.7,30.1,99.5]\n",
    "fahrenheit = [((9/5)*x+32) for x in celcius]\n",
    "fahrenheit"
   ]
  },
  {
   "cell_type": "code",
   "execution_count": 6,
   "id": "bdff5ef4",
   "metadata": {},
   "outputs": [
    {
     "data": {
      "text/plain": [
       "[0, 1, 16, 81, 256, 625, 1296, 2401, 4096, 6561]"
      ]
     },
     "execution_count": 6,
     "metadata": {},
     "output_type": "execute_result"
    }
   ],
   "source": [
    "list1= [x**2 for x in [x**2 for x in range(10) ]]\n",
    "list1"
   ]
  },
  {
   "cell_type": "code",
   "execution_count": 8,
   "id": "5e0c33ad",
   "metadata": {},
   "outputs": [
    {
     "data": {
      "text/plain": [
       "4"
      ]
     },
     "execution_count": 8,
     "metadata": {},
     "output_type": "execute_result"
    }
   ],
   "source": [
    "from random import randint\n",
    "randint(4,10)"
   ]
  },
  {
   "cell_type": "code",
   "execution_count": 11,
   "id": "94f19e01",
   "metadata": {},
   "outputs": [
    {
     "data": {
      "text/plain": [
       "[1, 8, 5, 2, 7, 9, 3, 6, 10]"
      ]
     },
     "execution_count": 11,
     "metadata": {},
     "output_type": "execute_result"
    }
   ],
   "source": [
    "list2=[1,8,5,2,7,9,3,6]\n",
    "list2.append(10)\n",
    "list2"
   ]
  },
  {
   "cell_type": "code",
   "execution_count": 13,
   "id": "77b429ef",
   "metadata": {},
   "outputs": [
    {
     "data": {
      "text/plain": [
       "1"
      ]
     },
     "execution_count": 13,
     "metadata": {},
     "output_type": "execute_result"
    }
   ],
   "source": [
    "list2.count(7)"
   ]
  },
  {
   "cell_type": "code",
   "execution_count": 14,
   "id": "21283752",
   "metadata": {},
   "outputs": [
    {
     "name": "stdout",
     "output_type": "stream",
     "text": [
      "Help on built-in function count:\n",
      "\n",
      "count(value, /) method of builtins.list instance\n",
      "    Return number of occurrences of value.\n",
      "\n"
     ]
    }
   ],
   "source": [
    "help(list2.count)"
   ]
  },
  {
   "cell_type": "code",
   "execution_count": 17,
   "id": "02790a71",
   "metadata": {},
   "outputs": [
    {
     "name": "stdout",
     "output_type": "stream",
     "text": [
      "hello\n"
     ]
    }
   ],
   "source": [
    "def func1():\n",
    "    print(\"hello\")\n",
    "    \n",
    "func1()"
   ]
  },
  {
   "cell_type": "code",
   "execution_count": 18,
   "id": "cc00e468",
   "metadata": {},
   "outputs": [
    {
     "name": "stdout",
     "output_type": "stream",
     "text": [
      "Welcome sayali\n"
     ]
    }
   ],
   "source": [
    "def greeting(name):\n",
    "    print(f\"Welcome {name}\")\n",
    "    \n",
    "greeting(\"sayali\")"
   ]
  },
  {
   "cell_type": "code",
   "execution_count": 19,
   "id": "ff38dec4",
   "metadata": {},
   "outputs": [
    {
     "data": {
      "text/plain": [
       "7"
      ]
     },
     "execution_count": 19,
     "metadata": {},
     "output_type": "execute_result"
    }
   ],
   "source": [
    "def adding(num1,num2):\n",
    "    return num1+num2\n",
    "\n",
    "adding(5,2)"
   ]
  },
  {
   "cell_type": "code",
   "execution_count": 20,
   "id": "4f9c6941",
   "metadata": {},
   "outputs": [
    {
     "data": {
      "text/plain": [
       "'52'"
      ]
     },
     "execution_count": 20,
     "metadata": {},
     "output_type": "execute_result"
    }
   ],
   "source": [
    "adding(\"5\",\"2\")"
   ]
  },
  {
   "cell_type": "code",
   "execution_count": 21,
   "id": "36eacfaf",
   "metadata": {},
   "outputs": [
    {
     "data": {
      "text/plain": [
       "30"
      ]
     },
     "execution_count": 21,
     "metadata": {},
     "output_type": "execute_result"
    }
   ],
   "source": [
    "def returnfunc(num1,num2):\n",
    "    return num1+num2\n",
    "returnfunc(10,20)"
   ]
  },
  {
   "cell_type": "code",
   "execution_count": 23,
   "id": "6a08489b",
   "metadata": {},
   "outputs": [
    {
     "name": "stdout",
     "output_type": "stream",
     "text": [
      "30\n"
     ]
    }
   ],
   "source": [
    "def printfunc(num1,num2):\n",
    "    print(num1+num2)\n",
    "    \n",
    "printfunc(10,20)"
   ]
  },
  {
   "cell_type": "code",
   "execution_count": 24,
   "id": "2596b799",
   "metadata": {},
   "outputs": [
    {
     "data": {
      "text/plain": [
       "int"
      ]
     },
     "execution_count": 24,
     "metadata": {},
     "output_type": "execute_result"
    }
   ],
   "source": [
    "myans1 = returnfunc(10,20)\n",
    "type(myans1)"
   ]
  },
  {
   "cell_type": "code",
   "execution_count": 25,
   "id": "4e452664",
   "metadata": {},
   "outputs": [
    {
     "name": "stdout",
     "output_type": "stream",
     "text": [
      "30\n"
     ]
    },
    {
     "data": {
      "text/plain": [
       "NoneType"
      ]
     },
     "execution_count": 25,
     "metadata": {},
     "output_type": "execute_result"
    }
   ],
   "source": [
    "myans2 = printfunc(10,20)\n",
    "type(myans2)"
   ]
  },
  {
   "cell_type": "code",
   "execution_count": 1,
   "id": "c792afcb",
   "metadata": {},
   "outputs": [
    {
     "data": {
      "text/plain": [
       "5"
      ]
     },
     "execution_count": 1,
     "metadata": {},
     "output_type": "execute_result"
    }
   ],
   "source": [
    "2000%21"
   ]
  },
  {
   "cell_type": "code",
   "execution_count": 2,
   "id": "ed66a044",
   "metadata": {},
   "outputs": [
    {
     "data": {
      "text/plain": [
       "21"
      ]
     },
     "execution_count": 2,
     "metadata": {},
     "output_type": "execute_result"
    }
   ],
   "source": [
    "21%20000"
   ]
  },
  {
   "cell_type": "code",
   "execution_count": 6,
   "id": "e0a20ab5",
   "metadata": {},
   "outputs": [
    {
     "data": {
      "text/plain": [
       "True"
      ]
     },
     "execution_count": 6,
     "metadata": {},
     "output_type": "execute_result"
    }
   ],
   "source": [
    "21%22==21"
   ]
  },
  {
   "cell_type": "code",
   "execution_count": 7,
   "id": "6c41ea76",
   "metadata": {},
   "outputs": [],
   "source": [
    "def even_check(num):\n",
    "    return num%2 == 0"
   ]
  },
  {
   "cell_type": "code",
   "execution_count": 10,
   "id": "3e5df584",
   "metadata": {},
   "outputs": [
    {
     "data": {
      "text/plain": [
       "True"
      ]
     },
     "execution_count": 10,
     "metadata": {},
     "output_type": "execute_result"
    }
   ],
   "source": [
    "even_check(518040700)"
   ]
  },
  {
   "cell_type": "code",
   "execution_count": 9,
   "id": "10e5651c",
   "metadata": {},
   "outputs": [
    {
     "data": {
      "text/plain": [
       "False"
      ]
     },
     "execution_count": 9,
     "metadata": {},
     "output_type": "execute_result"
    }
   ],
   "source": [
    "even_check(51)"
   ]
  },
  {
   "cell_type": "code",
   "execution_count": 11,
   "id": "beff7c4b",
   "metadata": {},
   "outputs": [],
   "source": [
    "def even_list(num_list):\n",
    "    for n in num_list:\n",
    "        if n%2 == 0:\n",
    "            return True\n",
    "        else:\n",
    "            pass        "
   ]
  },
  {
   "cell_type": "code",
   "execution_count": 12,
   "id": "d7754e54",
   "metadata": {},
   "outputs": [
    {
     "data": {
      "text/plain": [
       "True"
      ]
     },
     "execution_count": 12,
     "metadata": {},
     "output_type": "execute_result"
    }
   ],
   "source": [
    "even_list([1,1,2,3,4])"
   ]
  },
  {
   "cell_type": "code",
   "execution_count": 13,
   "id": "3d2e3d61",
   "metadata": {},
   "outputs": [],
   "source": [
    "even_list([1,1,5,3,7])"
   ]
  },
  {
   "cell_type": "code",
   "execution_count": 14,
   "id": "faed7528",
   "metadata": {},
   "outputs": [],
   "source": [
    "def even_list(num_list):\n",
    "    for n in num_list:\n",
    "        if n%2 == 0:\n",
    "            return True\n",
    "        else:\n",
    "            return False   "
   ]
  },
  {
   "cell_type": "code",
   "execution_count": 15,
   "id": "61405242",
   "metadata": {},
   "outputs": [
    {
     "data": {
      "text/plain": [
       "False"
      ]
     },
     "execution_count": 15,
     "metadata": {},
     "output_type": "execute_result"
    }
   ],
   "source": [
    "even_list([1,1,2,3,4])"
   ]
  },
  {
   "cell_type": "code",
   "execution_count": 18,
   "id": "9d5fcfda",
   "metadata": {},
   "outputs": [],
   "source": [
    "def even_list(num_list):\n",
    "    for n in num_list:\n",
    "        if n%2 == 0:\n",
    "            return True\n",
    "        else:\n",
    "            pass\n",
    "    return False\n"
   ]
  },
  {
   "cell_type": "code",
   "execution_count": 19,
   "id": "c6fa5b5c",
   "metadata": {},
   "outputs": [
    {
     "data": {
      "text/plain": [
       "True"
      ]
     },
     "execution_count": 19,
     "metadata": {},
     "output_type": "execute_result"
    }
   ],
   "source": [
    "even_list([1,1,2,3,4])"
   ]
  },
  {
   "cell_type": "code",
   "execution_count": 20,
   "id": "666fb73f",
   "metadata": {},
   "outputs": [],
   "source": [
    "def even_list(num_list):\n",
    "    ans_list = []\n",
    "    for n in num_list:\n",
    "        if n%2 == 0:\n",
    "            ans_list.append(n)\n",
    "        else:\n",
    "            pass\n",
    "    return ans_list"
   ]
  },
  {
   "cell_type": "code",
   "execution_count": 21,
   "id": "973a43c4",
   "metadata": {},
   "outputs": [
    {
     "data": {
      "text/plain": [
       "[2, 4]"
      ]
     },
     "execution_count": 21,
     "metadata": {},
     "output_type": "execute_result"
    }
   ],
   "source": [
    "even_list([1,1,2,3,4])"
   ]
  },
  {
   "cell_type": "code",
   "execution_count": 22,
   "id": "057e6572",
   "metadata": {},
   "outputs": [
    {
     "data": {
      "text/plain": [
       "[]"
      ]
     },
     "execution_count": 22,
     "metadata": {},
     "output_type": "execute_result"
    }
   ],
   "source": [
    "even_list([1,1,5,3,7])"
   ]
  },
  {
   "cell_type": "code",
   "execution_count": 23,
   "id": "a15b013d",
   "metadata": {},
   "outputs": [],
   "source": [
    "stockprices = [('stock1',500),('stock2',100),('Abc',50),('Aby',800)]"
   ]
  },
  {
   "cell_type": "code",
   "execution_count": 24,
   "id": "b5d3904e",
   "metadata": {},
   "outputs": [
    {
     "name": "stdout",
     "output_type": "stream",
     "text": [
      "('stock1', 500)\n",
      "('stock2', 100)\n",
      "('Abc', 50)\n",
      "('Aby', 800)\n"
     ]
    }
   ],
   "source": [
    "for item in stockprices:\n",
    "    print(item)"
   ]
  },
  {
   "cell_type": "code",
   "execution_count": 25,
   "id": "7eed3bd4",
   "metadata": {},
   "outputs": [
    {
     "name": "stdout",
     "output_type": "stream",
     "text": [
      "stock1\n",
      "stock2\n",
      "Abc\n",
      "Aby\n"
     ]
    }
   ],
   "source": [
    "for stockname,price in stockprices:\n",
    "    print(stockname)"
   ]
  },
  {
   "cell_type": "code",
   "execution_count": 26,
   "id": "cba98eba",
   "metadata": {},
   "outputs": [
    {
     "name": "stdout",
     "output_type": "stream",
     "text": [
      "500\n",
      "100\n",
      "50\n",
      "800\n"
     ]
    }
   ],
   "source": [
    "for stockname,price in stockprices:\n",
    "    print(price)"
   ]
  },
  {
   "cell_type": "code",
   "execution_count": 28,
   "id": "9afec498",
   "metadata": {},
   "outputs": [],
   "source": [
    "workhours = [('John',50),('Jen',10),('Pat',45),('Kate',80)]"
   ]
  },
  {
   "cell_type": "code",
   "execution_count": 29,
   "id": "f25589d8",
   "metadata": {},
   "outputs": [],
   "source": [
    "def high_work_hours(hrslist):\n",
    "    current_max = 0\n",
    "    employee_of_month = \"\"\n",
    "    for empname,hrs in hrslist:\n",
    "        if(hrs>current_max):\n",
    "            current_max = hrs\n",
    "            employee_of_month = empname\n",
    "        else:\n",
    "            pass\n",
    "    print(f'{employee_of_month} has worked for {current_max} hours')\n",
    "    return (employee_of_month,current_max)"
   ]
  },
  {
   "cell_type": "code",
   "execution_count": 30,
   "id": "7364094e",
   "metadata": {},
   "outputs": [
    {
     "name": "stdout",
     "output_type": "stream",
     "text": [
      "Kate has worked for 80 hours\n"
     ]
    },
    {
     "data": {
      "text/plain": [
       "('Kate', 80)"
      ]
     },
     "execution_count": 30,
     "metadata": {},
     "output_type": "execute_result"
    }
   ],
   "source": [
    "high_work_hours(workhours)"
   ]
  },
  {
   "cell_type": "code",
   "execution_count": 32,
   "id": "399cdad5",
   "metadata": {},
   "outputs": [
    {
     "data": {
      "text/plain": [
       "[5, 8, 1, 9, 4, 6, 2, 7, 3]"
      ]
     },
     "execution_count": 32,
     "metadata": {},
     "output_type": "execute_result"
    }
   ],
   "source": [
    "from random import shuffle\n",
    "exmple = [8,1,7,2,3,5,4,6,9]\n",
    "shuffle(exmple)\n",
    "exmple"
   ]
  },
  {
   "cell_type": "code",
   "execution_count": 34,
   "id": "3554c87d",
   "metadata": {},
   "outputs": [
    {
     "data": {
      "text/plain": [
       "['O', '', '']"
      ]
     },
     "execution_count": 34,
     "metadata": {},
     "output_type": "execute_result"
    }
   ],
   "source": [
    "mylist=['','O','']\n",
    "def shuffle_list(list_values):\n",
    "    shuffle(list_values)\n",
    "    return list_values\n",
    "\n",
    "shuffle_list(mylist)\n"
   ]
  },
  {
   "cell_type": "code",
   "execution_count": null,
   "id": "37da76fa",
   "metadata": {},
   "outputs": [],
   "source": [
    "def guessGame():\n",
    "    guess=\"\"\n",
    "    while guess not in ['0','1','2']:\n",
    "        guess = input(\"enter a guess number: from 0 , 1 ,2\")\n",
    "        return int(guess)"
   ]
  },
  {
   "cell_type": "code",
   "execution_count": null,
   "id": "e67c11bd",
   "metadata": {},
   "outputs": [],
   "source": [
    "guessGame()"
   ]
  },
  {
   "cell_type": "code",
   "execution_count": null,
   "id": "0b213da5",
   "metadata": {},
   "outputs": [],
   "source": [
    "guessGame()"
   ]
  },
  {
   "cell_type": "code",
   "execution_count": null,
   "id": "ea1a6066",
   "metadata": {},
   "outputs": [],
   "source": [
    "def guess_game(mylist,guess):\n",
    "    if mylist[guess] == \"O\":\n",
    "        print(\"correct guess\")\n",
    "    else:\n",
    "        print(\"wrong guess\")\n",
    "        print(mylist)"
   ]
  },
  {
   "cell_type": "code",
   "execution_count": null,
   "id": "a22249db",
   "metadata": {},
   "outputs": [],
   "source": []
  },
  {
   "cell_type": "code",
   "execution_count": null,
   "id": "3c21024e",
   "metadata": {},
   "outputs": [],
   "source": []
  },
  {
   "cell_type": "code",
   "execution_count": null,
   "id": "4c08f949",
   "metadata": {},
   "outputs": [],
   "source": []
  }
 ],
 "metadata": {
  "kernelspec": {
   "display_name": "Python 3 (ipykernel)",
   "language": "python",
   "name": "python3"
  },
  "language_info": {
   "codemirror_mode": {
    "name": "ipython",
    "version": 3
   },
   "file_extension": ".py",
   "mimetype": "text/x-python",
   "name": "python",
   "nbconvert_exporter": "python",
   "pygments_lexer": "ipython3",
   "version": "3.9.12"
  }
 },
 "nbformat": 4,
 "nbformat_minor": 5
}
